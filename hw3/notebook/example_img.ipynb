{
 "cells": [
  {
   "cell_type": "code",
   "execution_count": 1,
   "metadata": {},
   "outputs": [
    {
     "name": "stderr",
     "output_type": "stream",
     "text": [
      "Using TensorFlow backend.\n"
     ]
    }
   ],
   "source": [
    "import tensorflow as tf\n",
    "import keras.backend.tensorflow_backend as KTF\n",
    "\n",
    "from keras.models import load_model\n",
    "\n",
    "import numpy as np\n",
    "import pandas as pd\n",
    "import matplotlib.pyplot as plt"
   ]
  },
  {
   "cell_type": "code",
   "execution_count": 2,
   "metadata": {},
   "outputs": [],
   "source": [
    "def training_data_preprocessing(in_path):\n",
    "\n",
    "    raw_train = pd.read_csv(in_path)\n",
    "\n",
    "    # normalize x by 255, encode y category with one-hot encoding\n",
    "    x_train_total = np.array([ row.split() for row in raw_train['feature'] ], dtype='float') / 255\n",
    "    y_train_total = raw_train['label'].values\n",
    "\n",
    "    # reshape data format channels_last for cnn model\n",
    "    x_train_total = x_train_total.reshape( (x_train_total.shape[0], 48, 48, 1) )\n",
    "\n",
    "    return x_train_total, y_train_total\n",
    "\n",
    "\n",
    "def split_validate(train_x, train_y, validate_n, seed=None):\n",
    "\n",
    "        # val_n\n",
    "        data_n = train_x.shape[0]\n",
    "        if isinstance(validate_n, float):\n",
    "            val_n = int(data_n*validate_n)\n",
    "        elif isinstance(validate_n, int):\n",
    "            val_n = int(validate_n)\n",
    "\n",
    "        # mask\n",
    "        mask = np.ones(data_n, dtype=bool)\n",
    "\n",
    "        sample_idx = np.arange(data_n)\n",
    "        if seed:\n",
    "            rng = np.random.RandomState(int(seed))\n",
    "            rng.shuffle(sample_idx)\n",
    "        else:\n",
    "            np.random.shuffle(sample_idx)\n",
    "        sample_idx = sample_idx[:val_n]\n",
    "\n",
    "        mask[sample_idx] = False\n",
    "\n",
    "        # train, validate\n",
    "        x_train, y_train = train_x[mask], train_y[mask]\n",
    "        x_val, y_val = train_x[~mask], train_y[~mask]\n",
    "\n",
    "        print (\"Training data x shape: {}, Training ground truth y shape: {}\".format(x_train.shape, y_train.shape))\n",
    "        print (\"Validation data x shape: {}, Validation ground truth y shape: {}\".format(x_val.shape, y_val.shape))\n",
    "\n",
    "        return x_train, y_train, x_val, y_val\n",
    "\n",
    "\n",
    "\n",
    "# util function to convert a tensor into a valid image\n",
    "def deprocessImage(x):\n",
    "    # normalize tensor: center on 0., ensure std is 0.1\n",
    "    x -= x.mean()\n",
    "    x /= (x.std() + 1e-5)\n",
    "    x *= 0.1\n",
    "\n",
    "    # clip to [0, 1]\n",
    "    x += 0.5\n",
    "    x = np.clip(x, 0, 1)\n",
    "\n",
    "    # convert to array\n",
    "    x *= 255\n",
    "    x = np.clip(x, 0, 255).astype('uint8')\n",
    "    # print(x.shape)\n",
    "    return x\n"
   ]
  },
  {
   "cell_type": "code",
   "execution_count": 3,
   "metadata": {},
   "outputs": [],
   "source": [
    "config = tf.ConfigProto()\n",
    "config.gpu_options.allow_growth=True\n",
    "sess = tf.Session(config=config)\n",
    "KTF.set_session(sess)"
   ]
  },
  {
   "cell_type": "code",
   "execution_count": 4,
   "metadata": {
    "scrolled": true
   },
   "outputs": [
    {
     "name": "stdout",
     "output_type": "stream",
     "text": [
      "Training data x shape: (25839, 48, 48, 1), Training ground truth y shape: (25839,)\n",
      "Validation data x shape: (2870, 48, 48, 1), Validation ground truth y shape: (2870,)\n",
      "WARNING:tensorflow:From /usr/local/lib/python3.6/dist-packages/tensorflow/python/framework/op_def_library.py:263: colocate_with (from tensorflow.python.framework.ops) is deprecated and will be removed in a future version.\n",
      "Instructions for updating:\n",
      "Colocations handled automatically by placer.\n",
      "WARNING:tensorflow:From /usr/local/lib/python3.6/dist-packages/keras/backend/tensorflow_backend.py:3445: calling dropout (from tensorflow.python.ops.nn_ops) with keep_prob is deprecated and will be removed in a future version.\n",
      "Instructions for updating:\n",
      "Please use `rate` instead of `keep_prob`. Rate should be set to `rate = 1 - keep_prob`.\n",
      "WARNING:tensorflow:From /usr/local/lib/python3.6/dist-packages/tensorflow/python/ops/math_ops.py:3066: to_int32 (from tensorflow.python.ops.math_ops) is deprecated and will be removed in a future version.\n",
      "Instructions for updating:\n",
      "Use tf.cast instead.\n"
     ]
    }
   ],
   "source": [
    "x_train_total, y_train_total = training_data_preprocessing(\"../data/train.csv\")\n",
    "x_train, y_train, x_val, y_val = split_validate(x_train_total, y_train_total, 0.1, seed=1234)\n",
    "\n",
    "cnn_model = load_model(\"../model/best/val_0.1_seed_1234_epoch_2000_batch_64_opt_adam_cnn_filter_112_elu_1.0_dnn_unit_896_elu_1.0_0722-0.7052.hdf5\")\n",
    "y_pre = cnn_model.predict(x_val.reshape(x_val.shape[0], 48, 48, 1)).argmax(axis=1)"
   ]
  },
  {
   "cell_type": "code",
   "execution_count": 5,
   "metadata": {},
   "outputs": [
    {
     "data": {
      "text/plain": [
       "(2870,)"
      ]
     },
     "execution_count": 5,
     "metadata": {},
     "output_type": "execute_result"
    }
   ],
   "source": [
    "y_pre.shape"
   ]
  },
  {
   "cell_type": "code",
   "execution_count": 6,
   "metadata": {},
   "outputs": [
    {
     "name": "stdout",
     "output_type": "stream",
     "text": [
      "46\n",
      "69\n",
      "73\n",
      "92\n",
      "141\n",
      "154\n",
      "167\n",
      "175\n",
      "221\n",
      "236\n",
      "252\n",
      "273\n",
      "278\n",
      "284\n",
      "302\n",
      "321\n",
      "395\n",
      "423\n",
      "438\n",
      "502\n"
     ]
    }
   ],
   "source": [
    "print_n = 20\n",
    "for i in range(y_val.shape[0]): \n",
    "    if (y_val[i] == 4) and (y_pre[i] == 6):\n",
    "        print (i)\n",
    "        print_n -= 1\n",
    "    if (print_n == 0):\n",
    "        break"
   ]
  },
  {
   "cell_type": "code",
   "execution_count": 8,
   "metadata": {},
   "outputs": [
    {
     "data": {
      "image/png": "[encoded data removed]",
      "text/plain": [
       "<Figure size 432x288 with 1 Axes>"
      ]
     },
     "metadata": {
      "needs_background": "light"
     },
     "output_type": "display_data"
    }
   ],
   "source": [
    "plt.figure()\n",
    "plt.imshow(x_val[742].reshape(48, 48), cmap='gray')\n",
    "plt.tight_layout()\n",
    "fig = plt.gcf()"
   ]
  },
  {
   "cell_type": "code",
   "execution_count": 9,
   "metadata": {},
   "outputs": [
    {
     "data": {
      "image/png": "[encoded data removed]",
      "text/plain": [
       "<Figure size 432x288 with 1 Axes>"
      ]
     },
     "metadata": {
      "needs_background": "light"
     },
     "output_type": "display_data"
    }
   ],
   "source": [
    "plt.figure()\n",
    "plt.imshow(x_val[154].reshape(48, 48), cmap='gray')\n",
    "plt.tight_layout()\n",
    "fig = plt.gcf()"
   ]
  },
  {
   "cell_type": "code",
   "execution_count": null,
   "metadata": {},
   "outputs": [],
   "source": []
  }
 ],
 "metadata": {
  "kernelspec": {
   "display_name": "Python 3",
   "language": "python",
   "name": "python3"
  },
  "language_info": {
   "codemirror_mode": {
    "name": "ipython",
    "version": 3
   },
   "file_extension": ".py",
   "mimetype": "text/x-python",
   "name": "python",
   "nbconvert_exporter": "python",
   "pygments_lexer": "ipython3",
   "version": "3.6.7"
  }
 },
 "nbformat": 4,
 "nbformat_minor": 2
}
