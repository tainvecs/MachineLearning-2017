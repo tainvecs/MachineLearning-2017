{
 "cells": [
  {
   "cell_type": "code",
   "execution_count": 1,
   "metadata": {},
   "outputs": [
    {
     "name": "stderr",
     "output_type": "stream",
     "text": [
      "Using TensorFlow backend.\n"
     ]
    }
   ],
   "source": [
    "import tensorflow as tf\n",
    "import keras.backend.tensorflow_backend as KTF\n",
    "\n",
    "from keras.models import Sequential\n",
    "from keras.layers import Bidirectional, RNN, LSTM, GRU, Dense, BatchNormalization, Dropout\n",
    "from keras.utils import print_summary, plot_model\n",
    "from keras.callbacks import ModelCheckpoint, EarlyStopping, CSVLogger"
   ]
  },
  {
   "cell_type": "code",
   "execution_count": 2,
   "metadata": {},
   "outputs": [],
   "source": [
    "# tensorflow config allow_growth\n",
    "config = tf.ConfigProto()\n",
    "config.gpu_options.allow_growth=True\n",
    "sess = tf.Session(config=config)\n",
    "KTF.set_session(sess)"
   ]
  },
  {
   "cell_type": "code",
   "execution_count": 3,
   "metadata": {},
   "outputs": [],
   "source": [
    "DEFAULT_MAX_STR_LEN = 40\n",
    "DEFAULT_W2V_DIM = 256\n",
    "\n",
    "DEFAULT_RNN_ACTIVATION = 'tanh'\n",
    "DEFAULT_RNN_UNIT = [256, 256]\n",
    "DEFAULT_RNN_DROPOUT = [0.0, 0.0]\n",
    "DEFAULT_RNN_R_DROPOUT = [0.0, 0.0]\n",
    "DEFAULT_RNN_IN_SHAPE = [(DEFAULT_MAX_STR_LEN, DEFAULT_W2V_DIM)] + [ (DEFAULT_MAX_STR_LEN, u_size) for u_size in DEFAULT_RNN_UNIT[:-1]]\n",
    "DEFAULT_RNN_RT_SEQ = [True]*(len(DEFAULT_RNN_UNIT)-1) + [False]\n",
    "\n",
    "DEFAULT_DNN_ACTIVATION = 'selu'\n",
    "DEFAULT_DNN_UNIT = [512, 512]\n",
    "DEFAULT_DNN_BATCH_NORM = False\n",
    "DEFAULT_DNN_DROPOUT = [0.5, 0.5]\n",
    "\n",
    "rnn_model = Sequential()\n",
    "\n",
    "# bi-directional rnn\n",
    "for i in range(len(DEFAULT_RNN_UNIT)): \n",
    "\n",
    "    rnn_model.add(\n",
    "        Bidirectional(\n",
    "            GRU(\n",
    "                input_shape=DEFAULT_RNN_IN_SHAPE[i],\n",
    "                units=DEFAULT_RNN_UNIT[i], \n",
    "                activation=DEFAULT_RNN_ACTIVATION, recurrent_activation='hard_sigmoid', \n",
    "                use_bias=True, \n",
    "                kernel_initializer='glorot_uniform', recurrent_initializer='orthogonal', bias_initializer='zeros', \n",
    "                dropout=DEFAULT_RNN_DROPOUT[i], recurrent_dropout=DEFAULT_RNN_R_DROPOUT[i], \n",
    "                return_sequences=DEFAULT_RNN_RT_SEQ[i], return_state=False\n",
    "            ), \n",
    "            merge_mode='concat', weights=None\n",
    "        )\n",
    "    )\n",
    "\n",
    "# dnn layers\n",
    "for i in range(len(DEFAULT_DNN_UNIT)):\n",
    "    \n",
    "    rnn_model.add(\n",
    "        Dense(\n",
    "            units=DEFAULT_DNN_UNIT[i], activation=DEFAULT_DNN_ACTIVATION, use_bias=True,\n",
    "            kernel_initializer='glorot_uniform', bias_initializer='zeros',\n",
    "        )\n",
    "    )\n",
    "    if DEFAULT_DNN_BATCH_NORM: \n",
    "        rnn_model.add(BatchNormalization())\n",
    "    rnn_model.add( Dropout(rate=DEFAULT_DNN_DROPOUT[i]) )\n",
    "\n",
    "\n",
    "# output\n",
    "rnn_model.add(\n",
    "    Dense(\n",
    "        units=2, activation='softmax', use_bias=True,\n",
    "        kernel_initializer='glorot_uniform', bias_initializer='zeros',\n",
    "    )\n",
    ")"
   ]
  },
  {
   "cell_type": "code",
   "execution_count": null,
   "metadata": {},
   "outputs": [],
   "source": []
  }
 ],
 "metadata": {
  "kernelspec": {
   "display_name": "Python 3",
   "language": "python",
   "name": "python3"
  },
  "language_info": {
   "codemirror_mode": {
    "name": "ipython",
    "version": 3
   },
   "file_extension": ".py",
   "mimetype": "text/x-python",
   "name": "python",
   "nbconvert_exporter": "python",
   "pygments_lexer": "ipython3",
   "version": "3.6.7"
  }
 },
 "nbformat": 4,
 "nbformat_minor": 2
}
